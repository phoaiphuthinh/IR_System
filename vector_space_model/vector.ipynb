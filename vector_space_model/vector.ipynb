{
 "cells": [
  {
   "cell_type": "code",
   "execution_count": 1,
   "metadata": {},
   "outputs": [],
   "source": [
    "import numpy as np\n",
    "import glob\n",
    "import re\n",
    "import functools\n",
    "import operator\n",
    "from collections import Counter\n",
    "# Step 0: Scan all text files\n",
    "paths = glob.glob('data/*.txt')"
   ]
  },
  {
   "cell_type": "code",
   "execution_count": 2,
   "metadata": {},
   "outputs": [],
   "source": [
    "def getIndex(vocab, word):\n",
    "    index = vocab.get(word, len(vocab))\n",
    "    if index == len(vocab):\n",
    "        vocab[word] = index\n",
    "    return index"
   ]
  },
  {
   "cell_type": "code",
   "execution_count": 3,
   "metadata": {},
   "outputs": [],
   "source": [
    "contents = []\n",
    "dictionary = dict()\n",
    "df = dict()\n",
    "for path in paths:\n",
    "    # Read file\n",
    "    f = open(path, encoding=\"utf8\")\n",
    "    str = f.read()\n",
    "    words = re.findall(r\"[\\w']+\", str)\n",
    "    words = [getIndex(dictionary, word.lower()) for word in words]\n",
    "    contents.append(words)"
   ]
  },
  {
   "cell_type": "code",
   "execution_count": 4,
   "metadata": {},
   "outputs": [],
   "source": [
    "term_doc = np.zeros((1, len(dictionary) * len(paths)))\n",
    "lf = lambda i, x: list(map(lambda num: num * len(paths) + i, x))\n",
    "index = list(map(lambda x: lf(x[0], x[1]), list(enumerate(contents))))\n",
    "index = functools.reduce(operator.iconcat, index, [])\n",
    "frq = Counter(index)\n",
    "np.put(term_doc, list(frq.keys()), list(frq.values()))\n",
    "term_doc = np.reshape(term_doc, (len(dictionary), len(paths)))"
   ]
  },
  {
   "cell_type": "code",
   "execution_count": 5,
   "metadata": {},
   "outputs": [],
   "source": [
    "query = \"Xiaomi ra Mi 11 Lite\"\n",
    "query = query.lower()"
   ]
  },
  {
   "cell_type": "code",
   "execution_count": 6,
   "metadata": {},
   "outputs": [],
   "source": [
    "idf = np.array([np.count_nonzero(term_doc, axis=1)]).transpose()\n",
    "term_doc = (np.log(term_doc, where=term_doc > 0) + 1 - np.where(term_doc == 0, 1, 0)) * (1 + np.log(len(paths)) - np.log(idf))"
   ]
  },
  {
   "cell_type": "code",
   "execution_count": 7,
   "metadata": {},
   "outputs": [],
   "source": [
    "norm = np.sqrt(np.sum(term_doc * term_doc, axis=0))\n",
    "term_doc = term_doc / norm"
   ]
  },
  {
   "cell_type": "code",
   "execution_count": 8,
   "metadata": {},
   "outputs": [
    {
     "data": {
      "text/plain": [
       "array([[0.04562626, 0.0225024 , 0.        , ..., 0.03143849, 0.        ,\n",
       "        0.02675491],\n",
       "       [0.02628997, 0.        , 0.        , ..., 0.        , 0.        ,\n",
       "        0.        ],\n",
       "       [0.04180721, 0.06458072, 0.        , ..., 0.05639324, 0.        ,\n",
       "        0.05139823],\n",
       "       ...,\n",
       "       [0.        , 0.        , 0.        , ..., 0.        , 0.        ,\n",
       "        0.07376777],\n",
       "       [0.        , 0.        , 0.        , ..., 0.        , 0.        ,\n",
       "        0.07376777],\n",
       "       [0.        , 0.        , 0.        , ..., 0.        , 0.        ,\n",
       "        0.07376777]])"
      ]
     },
     "execution_count": 8,
     "metadata": {},
     "output_type": "execute_result"
    }
   ],
   "source": [
    "term_doc"
   ]
  },
  {
   "cell_type": "code",
   "execution_count": 9,
   "metadata": {},
   "outputs": [
    {
     "data": {
      "text/plain": [
       "Counter({'xiaomi': 1, 'ra': 1, 'mi': 1, '11': 1, 'lite': 1})"
      ]
     },
     "execution_count": 9,
     "metadata": {},
     "output_type": "execute_result"
    }
   ],
   "source": [
    "query = re.findall(r\"[\\w]+\", query)\n",
    "query = Counter(query)\n",
    "query"
   ]
  },
  {
   "cell_type": "code",
   "execution_count": 10,
   "metadata": {},
   "outputs": [],
   "source": [
    "vec = np.zeros((len(dictionary), 1))\n",
    "for word, freq in query.items():\n",
    "    if word in dictionary:\n",
    "        vec[dictionary[word], 0] = 1 + np.log(freq)\n",
    "vec = vec * (1 + np.log(len(paths)) - np.log(idf))"
   ]
  },
  {
   "cell_type": "code",
   "execution_count": 11,
   "metadata": {},
   "outputs": [
    {
     "data": {
      "text/plain": [
       "array([0.01047263, 0.        , 0.        , 0.00837919, 0.01152414,\n",
       "       0.00399946, 0.14837632, 0.01043734, 0.        , 0.00422394,\n",
       "       0.        , 0.        , 0.00508865, 0.02175583, 0.00851142,\n",
       "       0.        , 0.        , 0.        , 0.        , 0.        ,\n",
       "       0.        , 0.29040595, 0.        , 0.00572756, 0.00305132,\n",
       "       0.        , 0.        , 0.01265665, 0.03992644, 0.02104688,\n",
       "       0.        , 0.01321781, 0.0116633 , 0.0098286 , 0.        ,\n",
       "       0.01710296, 0.02539677, 0.01236368, 0.00791383, 0.02188656,\n",
       "       0.01179279, 0.00643239, 0.00945711, 0.        , 0.00660092,\n",
       "       0.        , 0.0203555 ])"
      ]
     },
     "execution_count": 11,
     "metadata": {},
     "output_type": "execute_result"
    }
   ],
   "source": [
    "res = np.sum(term_doc * vec, axis=0) / np.sqrt(np.sum(vec * vec))\n",
    "res"
   ]
  },
  {
   "cell_type": "code",
   "execution_count": 22,
   "metadata": {},
   "outputs": [
    {
     "name": "stdout",
     "output_type": "stream",
     "text": [
      "data/data10.txt\n",
      "data/data9.txt\n",
      "data/data11.txt\n",
      "data/data37.txt\n",
      "data/data45.txt\n",
      "data/data31.txt\n",
      "data/data46.txt\n",
      "data/data25.txt\n",
      "data/data33.txt\n",
      "data/data39.txt\n",
      "data/data16.txt\n",
      "data/data12.txt\n",
      "data/data22.txt\n",
      "data/data26.txt\n",
      "data/data5.txt\n",
      "data/data42.txt\n",
      "data/data8.txt\n",
      "data/data28.txt\n",
      "data/data24.txt\n",
      "data/data34.txt\n",
      "data/data43.txt\n",
      "data/data20.txt\n",
      "data/data36.txt\n",
      "data/data18.txt\n",
      "data/data40.txt\n",
      "data/data30.txt\n",
      "data/data15.txt\n",
      "data/data23.txt\n",
      "data/data17.txt\n",
      "data/data38.txt\n",
      "data/data6.txt\n",
      "data/data32.txt\n",
      "data/data7.txt\n",
      "data/data41.txt\n",
      "data/data21.txt\n",
      "data/data4.txt\n",
      "data/data44.txt\n",
      "data/data29.txt\n",
      "data/data19.txt\n",
      "data/data13.txt\n",
      "data/data35.txt\n",
      "data/data3.txt\n",
      "data/data27.txt\n",
      "data/data14.txt\n",
      "data/data1.txt\n",
      "data/data47.txt\n",
      "data/data2.txt\n"
     ]
    }
   ],
   "source": [
    "l = list(range(len(paths)))\n",
    "l.sort(key=lambda x : res[x], reverse=True)\n",
    "l\n",
    "for x in l:\n",
    "    print(paths[x])"
   ]
  },
  {
   "cell_type": "code",
   "execution_count": null,
   "metadata": {},
   "outputs": [],
   "source": []
  }
 ],
 "metadata": {
  "kernelspec": {
   "display_name": "Python 3",
   "language": "python",
   "name": "python3"
  },
  "language_info": {
   "codemirror_mode": {
    "name": "ipython",
    "version": 3
   },
   "file_extension": ".py",
   "mimetype": "text/x-python",
   "name": "python",
   "nbconvert_exporter": "python",
   "pygments_lexer": "ipython3",
   "version": "3.8.5"
  }
 },
 "nbformat": 4,
 "nbformat_minor": 4
}
